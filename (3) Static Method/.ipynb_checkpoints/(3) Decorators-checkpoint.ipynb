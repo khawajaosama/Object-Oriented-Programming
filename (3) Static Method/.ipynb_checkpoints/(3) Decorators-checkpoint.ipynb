{
 "cells": [
  {
   "cell_type": "markdown",
   "metadata": {},
   "source": [
    "               \"A Decorator is just a function that takes a function as an argument, add some                                            functionality on it and return another function as a result\""
   ]
  },
  {
   "cell_type": "code",
   "execution_count": 1,
   "metadata": {},
   "outputs": [],
   "source": [
    "def decorator_func(message):          # You have to know about closure and first class function for this\n",
    "    \n",
    "    def wrapper_func():               # This is just a typical closure example\n",
    "        print(message)\n",
    "    \n",
    "    return wrapper_func "
   ]
  },
  {
   "cell_type": "markdown",
   "metadata": {},
   "source": [
    "### It's accepting an arguemnet , lets pass a function as an arguement to make it a decorator:"
   ]
  },
  {
   "cell_type": "code",
   "execution_count": 2,
   "metadata": {},
   "outputs": [],
   "source": [
    "def display_func():\n",
    "    print(\"This is a display function\")"
   ]
  },
  {
   "cell_type": "code",
   "execution_count": 3,
   "metadata": {},
   "outputs": [],
   "source": [
    "def decorator_func(original_func): \n",
    "    \n",
    "    def wrapper_func():            \n",
    "        return original_func()\n",
    "    \n",
    "    return wrapper_func"
   ]
  },
  {
   "cell_type": "code",
   "execution_count": 4,
   "metadata": {},
   "outputs": [
    {
     "name": "stdout",
     "output_type": "stream",
     "text": [
      "This is a display function\n"
     ]
    }
   ],
   "source": [
    "practice = decorator_func(display_func)\n",
    "practice()"
   ]
  },
  {
   "cell_type": "markdown",
   "metadata": {},
   "source": [
    "### Making some advancement:"
   ]
  },
  {
   "cell_type": "code",
   "execution_count": 1,
   "metadata": {},
   "outputs": [],
   "source": [
    "def decorator_func(original_func): \n",
    "    \n",
    "    def wrapper_func():\n",
    "        print(\"Wrapper function executed before {}:\".format(original_func.__name__))\n",
    "        return original_func()\n",
    "    \n",
    "    return wrapper_func"
   ]
  },
  {
   "cell_type": "code",
   "execution_count": 6,
   "metadata": {},
   "outputs": [
    {
     "name": "stdout",
     "output_type": "stream",
     "text": [
      "Wrapper function executed before display_func:\n",
      "This is a display function\n"
     ]
    }
   ],
   "source": [
    "practice = decorator_func(display_func)\n",
    "practice()"
   ]
  },
  {
   "cell_type": "code",
   "execution_count": 2,
   "metadata": {},
   "outputs": [],
   "source": [
    "@decorator_func\n",
    "def display_func():\n",
    "    print(\"This is a display function\")"
   ]
  },
  {
   "cell_type": "code",
   "execution_count": 5,
   "metadata": {},
   "outputs": [
    {
     "name": "stdout",
     "output_type": "stream",
     "text": [
      "Wrapper function executed before display_func:\n",
      "This is a display function\n"
     ]
    }
   ],
   "source": [
    "display_func()\n"
   ]
  },
  {
   "cell_type": "code",
   "execution_count": null,
   "metadata": {},
   "outputs": [],
   "source": []
  }
 ],
 "metadata": {
  "kernelspec": {
   "display_name": "Python 3",
   "language": "python",
   "name": "python3"
  },
  "language_info": {
   "codemirror_mode": {
    "name": "ipython",
    "version": 3
   },
   "file_extension": ".py",
   "mimetype": "text/x-python",
   "name": "python",
   "nbconvert_exporter": "python",
   "pygments_lexer": "ipython3",
   "version": "3.5.2"
  }
 },
 "nbformat": 4,
 "nbformat_minor": 2
}
