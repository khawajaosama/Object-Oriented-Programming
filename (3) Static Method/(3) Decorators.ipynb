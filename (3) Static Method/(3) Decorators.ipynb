{
 "cells": [
  {
   "cell_type": "markdown",
   "metadata": {},
   "source": [
    "               \"A Decorator is just a function that takes a function as an argument, add some                                            functionality on it and return another function as a result\""
   ]
  },
  {
   "cell_type": "code",
   "execution_count": 24,
   "metadata": {},
   "outputs": [],
   "source": [
    "def decorator_func(message):          # You have to know about closure and first class function for this\n",
    "    \n",
    "    def wrapper_func():               # This is just a typical closure example\n",
    "        print(message)\n",
    "    \n",
    "    return wrapper_func "
   ]
  },
  {
   "cell_type": "markdown",
   "metadata": {},
   "source": [
    "### It's accepting an arguemnet , lets pass a function as an arguement to make it a decorator:"
   ]
  },
  {
   "cell_type": "code",
   "execution_count": 25,
   "metadata": {},
   "outputs": [],
   "source": [
    "def display_func():\n",
    "    print(\"This is a display function\")"
   ]
  },
  {
   "cell_type": "code",
   "execution_count": 26,
   "metadata": {},
   "outputs": [],
   "source": [
    "def decorator_func(original_func): \n",
    "    \n",
    "    def wrapper_func():            \n",
    "        return original_func()\n",
    "    \n",
    "    return wrapper_func"
   ]
  },
  {
   "cell_type": "code",
   "execution_count": 27,
   "metadata": {
    "scrolled": true
   },
   "outputs": [
    {
     "name": "stdout",
     "output_type": "stream",
     "text": [
      "This is a display function\n"
     ]
    }
   ],
   "source": [
    "practice = decorator_func(display_func)\n",
    "practice()"
   ]
  },
  {
   "cell_type": "markdown",
   "metadata": {},
   "source": [
    "### Making some advancement:"
   ]
  },
  {
   "cell_type": "code",
   "execution_count": 28,
   "metadata": {},
   "outputs": [],
   "source": [
    "def decorator_func(original_func): \n",
    "    \n",
    "    def wrapper_func():\n",
    "        print(\"Wrapper function executed before {}:\".format(original_func.__name__))\n",
    "        return original_func()\n",
    "    \n",
    "    return wrapper_func"
   ]
  },
  {
   "cell_type": "code",
   "execution_count": 29,
   "metadata": {},
   "outputs": [
    {
     "name": "stdout",
     "output_type": "stream",
     "text": [
      "Wrapper function executed before display_func:\n",
      "This is a display function\n"
     ]
    }
   ],
   "source": [
    "practice = decorator_func(display_func)\n",
    "practice()"
   ]
  },
  {
   "cell_type": "code",
   "execution_count": 30,
   "metadata": {},
   "outputs": [],
   "source": [
    "@decorator_func                            # display_func = decorator_func(display_func)\n",
    "def display_func():\n",
    "    print(\"This is a display function\")"
   ]
  },
  {
   "cell_type": "code",
   "execution_count": 31,
   "metadata": {},
   "outputs": [
    {
     "name": "stdout",
     "output_type": "stream",
     "text": [
      "Wrapper function executed before display_func:\n",
      "This is a display function\n"
     ]
    }
   ],
   "source": [
    "display_func()"
   ]
  },
  {
   "cell_type": "markdown",
   "metadata": {},
   "source": [
    "## Another Example:"
   ]
  },
  {
   "cell_type": "code",
   "execution_count": 32,
   "metadata": {},
   "outputs": [],
   "source": [
    "@decorator_func                      # display_info = decorator_func(display_info)\n",
    "def display_info(name,age):\n",
    "    print(name + ' is ' + str(age) + ' years old')"
   ]
  },
  {
   "cell_type": "markdown",
   "metadata": {},
   "source": [
    "### It gives an error"
   ]
  },
  {
   "cell_type": "code",
   "execution_count": 33,
   "metadata": {},
   "outputs": [
    {
     "ename": "TypeError",
     "evalue": "wrapper_func() takes 0 positional arguments but 2 were given",
     "output_type": "error",
     "traceback": [
      "\u001b[0;31m---------------------------------------------------------------------------\u001b[0m",
      "\u001b[0;31mTypeError\u001b[0m                                 Traceback (most recent call last)",
      "\u001b[0;32m<ipython-input-33-528fdb02d610>\u001b[0m in \u001b[0;36m<module>\u001b[0;34m\u001b[0m\n\u001b[0;32m----> 1\u001b[0;31m \u001b[0mdisplay_info\u001b[0m\u001b[0;34m(\u001b[0m\u001b[0;34m'john'\u001b[0m\u001b[0;34m,\u001b[0m\u001b[0;36m20\u001b[0m\u001b[0;34m)\u001b[0m  \u001b[0;34m,\u001b[0m   \u001b[0mdisplay_info\u001b[0m\u001b[0;34m\u001b[0m\u001b[0m\n\u001b[0m",
      "\u001b[0;31mTypeError\u001b[0m: wrapper_func() takes 0 positional arguments but 2 were given"
     ]
    }
   ],
   "source": [
    "display_info('john',20)  ,   display_info"
   ]
  },
  {
   "cell_type": "markdown",
   "metadata": {},
   "source": [
    "     This error is due to wrapper function because when we execute wrapper function in previous example it does                     not require any arguments , but in this case we are passing two arguements                                                     i.e 'name' and 'age' in wrapper function."
   ]
  },
  {
   "cell_type": "code",
   "execution_count": null,
   "metadata": {},
   "outputs": [],
   "source": [
    "def decorator_func(original_func): \n",
    "    \n",
    "    def wrapper_func(*args,**kwargs):\n",
    "        print(\"Wrapper function executed before {}:\".format(original_func.__name__))\n",
    "        return original_func(*args,**kwargs)\n",
    "    \n",
    "    return wrapper_func"
   ]
  },
  {
   "cell_type": "code",
   "execution_count": null,
   "metadata": {},
   "outputs": [],
   "source": [
    "@decorator_func                      # display_info = decorator_func(display_info)\n",
    "def display_info(name,age):\n",
    "    print('{} is {} years old'.format(name,age))"
   ]
  },
  {
   "cell_type": "code",
   "execution_count": null,
   "metadata": {},
   "outputs": [],
   "source": [
    "display_info('khawaja',20)"
   ]
  },
  {
   "cell_type": "markdown",
   "metadata": {},
   "source": [
    "### Practice without decorator i.e '@'"
   ]
  },
  {
   "cell_type": "code",
   "execution_count": null,
   "metadata": {},
   "outputs": [],
   "source": [
    "def decorator_func(random_func):\n",
    "    \n",
    "    def inner_func(name ,age):\n",
    "        print('{} is {} years old'.format(name,age))\n",
    "        return random_func(name ,age)\n",
    "    \n",
    "    return inner_func"
   ]
  },
  {
   "cell_type": "code",
   "execution_count": null,
   "metadata": {},
   "outputs": [],
   "source": [
    "\n",
    "def info(name,age):\n",
    "    pass\n",
    "\n",
    "info = decorator_func(info)"
   ]
  },
  {
   "cell_type": "code",
   "execution_count": null,
   "metadata": {},
   "outputs": [],
   "source": [
    "a=info('khawaja',21)"
   ]
  },
  {
   "cell_type": "markdown",
   "metadata": {},
   "source": [
    "## Lets Practice this with class"
   ]
  },
  {
   "cell_type": "markdown",
   "metadata": {},
   "source": [
    "you can skip this if you find this hard and come later after covering other series"
   ]
  },
  {
   "cell_type": "code",
   "execution_count": 41,
   "metadata": {},
   "outputs": [],
   "source": [
    "class decorator_class():\n",
    "    \n",
    "    def __init__(self,original_func):\n",
    "        self.original_func = original_func\n",
    "        \n",
    "    def __call__(self,*args,**kwargs):\n",
    "        print('call method executed this before {}'.format(self.original_func.__name__))\n",
    "        return self.original_func(*args,**kwargs)"
   ]
  },
  {
   "cell_type": "code",
   "execution_count": 49,
   "metadata": {},
   "outputs": [
    {
     "name": "stdout",
     "output_type": "stream",
     "text": [
      "call method executed this before display\n",
      "This is display function\n"
     ]
    }
   ],
   "source": [
    "@decorator_class\n",
    "def display():\n",
    "    print('This is display function')\n",
    "    \n",
    "display()"
   ]
  },
  {
   "cell_type": "code",
   "execution_count": 48,
   "metadata": {},
   "outputs": [
    {
     "name": "stdout",
     "output_type": "stream",
     "text": [
      "call method executed this before display_info\n",
      "khawaja is 21 years old\n"
     ]
    }
   ],
   "source": [
    "@decorator_class\n",
    "def display_info(name,age):\n",
    "    print('{} is {} years old'.format(name,age))\n",
    "\n",
    "display_info('khawaja',21)"
   ]
  },
  {
   "cell_type": "code",
   "execution_count": null,
   "metadata": {},
   "outputs": [],
   "source": []
  }
 ],
 "metadata": {
  "kernelspec": {
   "display_name": "Python 3",
   "language": "python",
   "name": "python3"
  },
  "language_info": {
   "codemirror_mode": {
    "name": "ipython",
    "version": 3
   },
   "file_extension": ".py",
   "mimetype": "text/x-python",
   "name": "python",
   "nbconvert_exporter": "python",
   "pygments_lexer": "ipython3",
   "version": "3.5.2"
  }
 },
 "nbformat": 4,
 "nbformat_minor": 2
}
